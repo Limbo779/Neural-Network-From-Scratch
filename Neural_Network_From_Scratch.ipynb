{
  "nbformat": 4,
  "nbformat_minor": 0,
  "metadata": {
    "colab": {
      "provenance": []
    },
    "kernelspec": {
      "name": "python3",
      "display_name": "Python 3"
    },
    "language_info": {
      "name": "python"
    }
  },
  "cells": [
    {
      "cell_type": "code",
      "execution_count": null,
      "metadata": {
        "id": "QRocWJA_ysMj"
      },
      "outputs": [],
      "source": [
        "import numpy as np\n",
        "import matplotlib.pyplot as plt"
      ]
    },
    {
      "cell_type": "code",
      "source": [
        "def sig(x):\n",
        "  return 1/(1+np.exp(-x))"
      ],
      "metadata": {
        "id": "5q5Guaw5-ymc"
      },
      "execution_count": null,
      "outputs": []
    },
    {
      "cell_type": "code",
      "source": [
        "def error(y,Y):\n",
        "  d=Y-y\n",
        "  return np.dot(d,d)"
      ],
      "metadata": {
        "id": "vKjMk1HRCZ5g"
      },
      "execution_count": null,
      "outputs": []
    },
    {
      "cell_type": "markdown",
      "source": [
        "We will use a simple Two layer network to find the mystery function"
      ],
      "metadata": {
        "id": "tjz8Dbqny-mZ"
      }
    },
    {
      "cell_type": "code",
      "source": [
        "def mystery_fn(x):\n",
        "  return 3*x**2 + 2*x + 1"
      ],
      "metadata": {
        "id": "JxaDI226y9Jl"
      },
      "execution_count": null,
      "outputs": []
    },
    {
      "cell_type": "markdown",
      "source": [
        "Datapoints"
      ],
      "metadata": {
        "id": "toPoNahEzMGw"
      }
    },
    {
      "cell_type": "code",
      "source": [
        "X=np.linspace(0,100,100)\n",
        "Y=mystery_fn(X)\n",
        "plt.plot(X,Y)\n",
        "plt.title(\"Mystery function to be found\")\n",
        "plt.show()"
      ],
      "metadata": {
        "colab": {
          "base_uri": "https://localhost:8080/",
          "height": 452
        },
        "id": "lymMLskzzK2b",
        "outputId": "16acbef0-aeae-4726-f318-263082bd5959"
      },
      "execution_count": null,
      "outputs": [
        {
          "output_type": "display_data",
          "data": {
            "text/plain": [
              "<Figure size 640x480 with 1 Axes>"
            ],
            "image/png": "[encoded data removed]"
          },
          "metadata": {}
        }
      ]
    },
    {
      "cell_type": "markdown",
      "source": [
        "First lets initialise random weight for our network"
      ],
      "metadata": {
        "id": "GAwChYWKzp-X"
      }
    },
    {
      "cell_type": "code",
      "source": [
        "def parameter_maker():\n",
        "  n_layer=4\n",
        "\n",
        "  arc={1:8,2:4,3:2,4:1}\n",
        "  arc_weight_lenght={1:1,2:8,3:4,4:2} # this tells us the no of connection each neuron has in a layer\n",
        "\n",
        "  weight={}\n",
        "  d={} # this dict contain all the parameter we want\n",
        "\n",
        "  for i in range(1,n_layer+1):\n",
        "    for j in range(1,arc[i]+1):\n",
        "      name=int(str(i)+str(j))\n",
        "      d[name]=[np.random.randint(-100,100,size=arc_weight_lenght[i]),np.random.rand(1)]\n",
        "  return d"
      ],
      "metadata": {
        "id": "LBp_sOARzpAR"
      },
      "execution_count": null,
      "outputs": []
    },
    {
      "cell_type": "code",
      "source": [
        "l=[]\n",
        "for i in range(1000):\n",
        "  l.append(parameter_maker())\n",
        "l_copy=l.copy()"
      ],
      "metadata": {
        "id": "6ER2raCO9tWi"
      },
      "execution_count": null,
      "outputs": []
    },
    {
      "cell_type": "code",
      "source": [
        "def plus_minus():\n",
        "  return 1 if np.random.rand()>0.5 else -1"
      ],
      "metadata": {
        "id": "SesRGdSkP_aM"
      },
      "execution_count": null,
      "outputs": []
    },
    {
      "cell_type": "code",
      "source": [
        "def parameter_changer(winner):\n",
        "  n_layer=4\n",
        "\n",
        "  arc={1:8,2:4,3:2,4:1}\n",
        "  arc_weight_lenght={1:1,2:8,3:4,4:2} # this tells us the no of connection each neuron has in a layer\n",
        "\n",
        "  weight={}\n",
        "  d={} # this dict contain all the parameter we want\n",
        "\n",
        "  for i in range(1,n_layer+1):\n",
        "    for j in range(1,arc[i]+1):\n",
        "      name=int(str(i)+str(j))\n",
        "      d[name]=[winner[name][0]+plus_minus()*np.random.rand(np.size(winner[name][0])),winner[name][1]+plus_minus()*np.random.rand(np.size(winner[name][1]))]\n",
        "  return d"
      ],
      "metadata": {
        "id": "EFotLvRjAk81"
      },
      "execution_count": null,
      "outputs": []
    },
    {
      "cell_type": "markdown",
      "source": [
        "Defining each layer as a function"
      ],
      "metadata": {
        "id": "ROWnQ7nU-KV4"
      }
    },
    {
      "cell_type": "code",
      "source": [
        "def L1(k,input):\n",
        "  global l\n",
        "  O1=sig(np.dot(l[k-1][11][0],np.array([input]))+l[k-1][11][1])\n",
        "  O2=sig(np.dot(l[k-1][12][0],np.array([input]))+l[k-1][12][1])\n",
        "  O3=sig(np.dot(l[k-1][13][0],np.array([input]))+l[k-1][13][1])\n",
        "  O4=sig(np.dot(l[k-1][14][0],np.array([input]))+l[k-1][14][1])\n",
        "  O5=sig(np.dot(l[k-1][15][0],np.array([input]))+l[k-1][15][1])\n",
        "  O6=sig(np.dot(l[k-1][16][0],np.array([input]))+l[k-1][16][1])\n",
        "  O7=sig(np.dot(l[k-1][17][0],np.array([input]))+l[k-1][17][1])\n",
        "  O8=sig(np.dot(l[k-1][18][0],np.array([input]))+l[k-1][18][1])\n",
        "  return np.array([O1,O2,O3,O4,O5,O6,O7,O8])\n"
      ],
      "metadata": {
        "id": "c34Pdfn_93kZ"
      },
      "execution_count": null,
      "outputs": []
    },
    {
      "cell_type": "code",
      "source": [
        "def L2(k,input):\n",
        "  global l\n",
        "  O1=sig(np.dot(l[k-1][21][0],input)+l[k-1][21][1])\n",
        "  O2=sig(np.dot(l[k-1][22][0],input)+l[k-1][22][1])\n",
        "  O3=sig(np.dot(l[k-1][23][0],input)+l[k-1][23][1])\n",
        "  O4=sig(np.dot(l[k-1][24][0],input)+l[k-1][24][1])\n",
        "  return np.array([O1,O2,O3,O4])\n"
      ],
      "metadata": {
        "id": "H2T609po_VWa"
      },
      "execution_count": null,
      "outputs": []
    },
    {
      "cell_type": "code",
      "source": [
        "def L3(k,input):\n",
        "  global l\n",
        "  O1=sig(np.dot(l[k-1][31][0],input)+l[k-1][31][1])\n",
        "  O2=sig(np.dot(l[k-1][32][0],input)+l[k-1][32][1])\n",
        "  return np.array([O1,O2])"
      ],
      "metadata": {
        "id": "7VPPg38YL1DA"
      },
      "execution_count": null,
      "outputs": []
    },
    {
      "cell_type": "code",
      "source": [
        "def L4(k,input):\n",
        "  global l\n",
        "  O1=(np.dot(l[k-1][41][0],input)+l[k-1][41][1])\n",
        "  return np.array([O1])"
      ],
      "metadata": {
        "id": "Lh3iPG00MA4K"
      },
      "execution_count": null,
      "outputs": []
    },
    {
      "cell_type": "code",
      "source": [
        "# we handle entire network as one single function\n",
        "def NN(k,input):\n",
        "  return L4(k,L3(k,L2(k,L1(k,input))))"
      ],
      "metadata": {
        "id": "3_E1Vs2H_cvB"
      },
      "execution_count": null,
      "outputs": []
    },
    {
      "cell_type": "code",
      "source": [
        "for _ in range(1000): # no of generation\n",
        "  score=[]\n",
        "  for k in range(1,len(l)+1):\n",
        "    y=[]\n",
        "    for x in X:\n",
        "      y.append(float(NN(k,x)))\n",
        "    score.append(error(Y,np.array(y)))\n",
        "  winning_species=score.index(min(score))\n",
        "  print(min(score))\n",
        "  l=[]\n",
        "  for i in range(1000):\n",
        "    l.append(parameter_changer(l_copy[winning_species]))"
      ],
      "metadata": {
        "id": "HXL7Ciab57QA"
      },
      "execution_count": null,
      "outputs": []
    },
    {
      "cell_type": "code",
      "source": [
        "import numpy as np\n",
        "\n",
        "# Assuming NN and error are defined elsewhere\n",
        "\n",
        "for _ in range(1000):  # number of generations\n",
        "    # Preallocate score array\n",
        "    score = np.zeros(len(l))\n",
        "\n",
        "    # Vectorized computation of y for all k and X\n",
        "    for k in range(1, len(l) + 1):\n",
        "        # Use a vectorized approach if NN can handle it\n",
        "        y = np.array([float(NN(k, x)) for x in X])  # This can be optimized if NN supports vectorization\n",
        "        score[k - 1] = error(Y, y)  # Store the error directly\n",
        "\n",
        "    winning_species = np.argmin(score)  # Get the index of the minimum score\n",
        "    print(score[winning_species])  # Print the minimum score\n",
        "\n",
        "    # Use list comprehension for parameter changing\n",
        "    l = [parameter_changer(l_copy[winning_species]) for _ in range(1000)]\n"
      ],
      "metadata": {
        "id": "-dxGvWwZ6EDu"
      },
      "execution_count": null,
      "outputs": []
    }
  ]
}